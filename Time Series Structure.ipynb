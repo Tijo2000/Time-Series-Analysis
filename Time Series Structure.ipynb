{
 "cells": [
  {
   "attachments": {},
   "cell_type": "markdown",
   "id": "9aa4f781",
   "metadata": {},
   "source": [
    " DateTime Index"
   ]
  },
  {
   "cell_type": "code",
   "execution_count": 2,
   "id": "5e4f1c7c",
   "metadata": {},
   "outputs": [],
   "source": [
    "from datetime import datetime"
   ]
  },
  {
   "cell_type": "code",
   "execution_count": 3,
   "id": "841d0440",
   "metadata": {},
   "outputs": [],
   "source": [
    "#Creating variables\n",
    "my_year = 2023\n",
    "my_month = 1\n",
    "my_day = 1\n",
    "my_hour = 13\n",
    "my_min = 30\n",
    "my_sec = 23"
   ]
  },
  {
   "cell_type": "code",
   "execution_count": 4,
   "id": "f7d8d7eb",
   "metadata": {},
   "outputs": [],
   "source": [
    "#Creating a datetime object\n",
    "my_date = datetime(my_year,my_month,my_day)"
   ]
  },
  {
   "cell_type": "code",
   "execution_count": 5,
   "id": "5983d91f",
   "metadata": {},
   "outputs": [
    {
     "data": {
      "text/plain": [
       "datetime.datetime(2023, 1, 1, 0, 0)"
      ]
     },
     "execution_count": 5,
     "metadata": {},
     "output_type": "execute_result"
    }
   ],
   "source": [
    "my_date"
   ]
  },
  {
   "cell_type": "code",
   "execution_count": 6,
   "id": "a0883768",
   "metadata": {},
   "outputs": [
    {
     "data": {
      "text/plain": [
       "datetime.datetime(2023, 1, 1, 13, 30, 23)"
      ]
     },
     "execution_count": 6,
     "metadata": {},
     "output_type": "execute_result"
    }
   ],
   "source": [
    "my_date_time = datetime(my_year,my_month,my_day,my_hour, my_min,my_sec)\n",
    "my_date_time\n"
   ]
  },
  {
   "cell_type": "code",
   "execution_count": 7,
   "id": "e9e09c9f",
   "metadata": {},
   "outputs": [
    {
     "data": {
      "text/plain": [
       "1"
      ]
     },
     "execution_count": 7,
     "metadata": {},
     "output_type": "execute_result"
    }
   ],
   "source": [
    "#Finding Day of that particular date\n",
    "my_date_time.day"
   ]
  },
  {
   "cell_type": "code",
   "execution_count": 8,
   "id": "3a1cd0d0",
   "metadata": {},
   "outputs": [
    {
     "data": {
      "text/plain": [
       "array(['2020-03-15', '2020-03-16', '2020-03-17'], dtype='datetime64[D]')"
      ]
     },
     "execution_count": 8,
     "metadata": {},
     "output_type": "execute_result"
    }
   ],
   "source": [
    "#Setting the precison \n",
    "import numpy as np\n",
    "np.array(['2020-03-15','2020-03-16','2020-03-17'],dtype='datetime64[D]')"
   ]
  },
  {
   "cell_type": "code",
   "execution_count": null,
   "id": "3cc48eea",
   "metadata": {},
   "outputs": [],
   "source": []
  }
 ],
 "metadata": {
  "kernelspec": {
   "display_name": "Python 3",
   "language": "python",
   "name": "python3"
  },
  "language_info": {
   "codemirror_mode": {
    "name": "ipython",
    "version": 3
   },
   "file_extension": ".py",
   "mimetype": "text/x-python",
   "name": "python",
   "nbconvert_exporter": "python",
   "pygments_lexer": "ipython3",
   "version": "3.11.0 (main, Oct 24 2022, 18:26:48) [MSC v.1933 64 bit (AMD64)]"
  },
  "vscode": {
   "interpreter": {
    "hash": "c394d944b80a5d78f05f49eab34a60570af0846adc11b26ca3fbdbd976f5ba57"
   }
  }
 },
 "nbformat": 4,
 "nbformat_minor": 5
}
